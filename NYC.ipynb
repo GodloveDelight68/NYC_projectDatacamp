{
 "cells": [
  {
   "cell_type": "code",
   "execution_count": 3,
   "metadata": {},
   "outputs": [
    {
     "name": "stdout",
     "output_type": "stream",
     "text": [
      "                                           school_name  average_math\n",
      "88                              Stuyvesant High School           754\n",
      "170                       Bronx High School of Science           714\n",
      "93                 Staten Island Technical High School           711\n",
      "365  Queens High School for the Sciences at York Co...           701\n",
      "68   High School for Mathematics, Science, and Engi...           683\n",
      "280                     Brooklyn Technical High School           682\n",
      "333                        Townsend Harris High School           680\n",
      "174  High School of American Studies at Lehman College           669\n",
      "0    New Explorations into Science, Technology and ...           657\n",
      "45                       Eleanor Roosevelt High School           641\n",
      "                                           school_name  total_SAT\n",
      "88                              Stuyvesant High School       2144\n",
      "170                       Bronx High School of Science       2041\n",
      "93                 Staten Island Technical High School       2041\n",
      "174  High School of American Studies at Lehman College       2013\n",
      "333                        Townsend Harris High School       1981\n",
      "365  Queens High School for the Sciences at York Co...       1947\n",
      "5                       Bard High School Early College       1914\n",
      "280                     Brooklyn Technical High School       1896\n",
      "45                       Eleanor Roosevelt High School       1889\n",
      "68   High School for Mathematics, Science, and Engi...       1889\n",
      "           num_schools  average_SAT  std_SAT\n",
      "borough                                     \n",
      "Manhattan           89      1340.13   230.29\n"
     ]
    }
   ],
   "source": [
    "# Import pandas as pd\n",
    "import pandas as pd\n",
    "\n",
    "# Read in the data\n",
    "schools = pd.read_csv(\"schools.csv\")\n",
    "\n",
    "# Preview the data\n",
    "schools.head()\n",
    "\n",
    "# Create a pandas DataFrame called best_math_schools containing the \"school_name\" and \"average_math\" score for all schools where the results are at least 80% of the maximum possible score, sorted by \"average_math\" in descending order.\n",
    "\n",
    "best_math_schools = schools[schools[\"average_math\"] >= 640][[\"school_name\",\"average_math\"]]\n",
    "best_math_schools = best_math_schools.sort_values(by=\"average_math\", ascending=False)\n",
    "print(best_math_schools)\n",
    "\n",
    "# Identify the top 10 performing schools based on scores across the three SAT sections, storing as a pandas DataFrame called top_10_schools containing the school name and a column named \"total_SAT\", with results sorted by total_SAT in descending order.\n",
    "schools[\"total_SAT\"] = schools[[\"average_math\", \"average_reading\", \"average_writing\"]].sum(axis=1)\n",
    "top_10_schools = schools[[\"school_name\", \"total_SAT\"]].sort_values(by=\"total_SAT\", ascending=False).head(10)\n",
    "print(top_10_schools)\n",
    "\n",
    "# Locate the NYC borough with the largest standard deviation for \"total_SAT\", storing as a DataFrame called largest_std_dev with \"borough\" as the index and three columns: \"num_schools\" for the number of schools in the borough, \"average_SAT\" for the mean of \"total_SAT\", and \"std_SAT\" for the standard deviation of \"total_SAT\". Round all numeric values to two decimal places.\n",
    "\n",
    "borough_stats = schools.groupby('borough')[\"total_SAT\"].agg(['count','mean','std']).round(2)\n",
    "borough_stats.columns = ['num_schools','average_SAT','std_SAT']\n",
    "largest_std_dev = borough_stats[borough_stats['std_SAT'] == borough_stats['std_SAT'].max()]\n",
    "print(largest_std_dev)"
   ]
  }
 ],
 "metadata": {
  "kernelspec": {
   "display_name": "myvenv",
   "language": "python",
   "name": "python3"
  },
  "language_info": {
   "codemirror_mode": {
    "name": "ipython",
    "version": 3
   },
   "file_extension": ".py",
   "mimetype": "text/x-python",
   "name": "python",
   "nbconvert_exporter": "python",
   "pygments_lexer": "ipython3",
   "version": "3.12.1"
  }
 },
 "nbformat": 4,
 "nbformat_minor": 2
}
